{
 "cells": [
  {
   "metadata": {
    "ExecuteTime": {
     "end_time": "2025-06-13T13:16:02.059681Z",
     "start_time": "2025-06-13T13:16:01.345945Z"
    }
   },
   "cell_type": "code",
   "source": [
    "import os\n",
    "\n",
    "# 顶层目录\n",
    "base_dir = \"/Users/ui21149/PycharmProjects/rep_measureGPR/WRDS/Spellchecked Copy\"\n",
    "\n",
    "# 用于保存每个 headline_with_q_year 子目录的 .txt 文件数量\n",
    "txt_counts = {}\n",
    "total_txt = 0\n",
    "\n",
    "# 遍历所有子目录，查找名为 headline_with_q_year 的文件夹\n",
    "for root, dirs, files in os.walk(base_dir):\n",
    "    for dir_name in dirs:\n",
    "        if dir_name == \"headline_with_q_year\":\n",
    "            target_dir = os.path.join(root, dir_name)\n",
    "            txt_files = [\n",
    "                f for f in os.listdir(target_dir)\n",
    "                if f.endswith(\".txt\") and os.path.isfile(os.path.join(target_dir, f))\n",
    "            ]\n",
    "            count = len(txt_files)\n",
    "            txt_counts[target_dir] = count\n",
    "            total_txt += count\n",
    "\n",
    "# 输出每个 headline_with_q_year 目录的 txt 文件数和比例\n",
    "for path, count in sorted(txt_counts.items()):\n",
    "    proportion = count / total_txt if total_txt > 0 else 0\n",
    "    print(f\"{path}: {count} files, {proportion:.2%} of total\")\n",
    "\n",
    "# 总文件数\n",
    "print(f\"\\nTotal .txt files: {total_txt}\")"
   ],
   "id": "228d352f460d6950",
   "outputs": [
    {
     "name": "stdout",
     "output_type": "stream",
     "text": [
      "/Users/ui21149/PycharmProjects/rep_measureGPR/WRDS/Proofed Copy/transcripts_2004/headline_with_q_year: 1 files, 0.00% of total\n",
      "/Users/ui21149/PycharmProjects/rep_measureGPR/WRDS/Proofed Copy/transcripts_2005/headline_with_q_year: 2 files, 0.00% of total\n",
      "/Users/ui21149/PycharmProjects/rep_measureGPR/WRDS/Proofed Copy/transcripts_2006/headline_with_q_year: 33 files, 0.02% of total\n",
      "/Users/ui21149/PycharmProjects/rep_measureGPR/WRDS/Proofed Copy/transcripts_2007/headline_with_q_year: 45 files, 0.02% of total\n",
      "/Users/ui21149/PycharmProjects/rep_measureGPR/WRDS/Proofed Copy/transcripts_2008/headline_with_q_year: 70 files, 0.04% of total\n",
      "/Users/ui21149/PycharmProjects/rep_measureGPR/WRDS/Proofed Copy/transcripts_2009/headline_with_q_year: 4074 files, 2.23% of total\n",
      "/Users/ui21149/PycharmProjects/rep_measureGPR/WRDS/Proofed Copy/transcripts_2010/headline_with_q_year: 7482 files, 4.10% of total\n",
      "/Users/ui21149/PycharmProjects/rep_measureGPR/WRDS/Proofed Copy/transcripts_2011/headline_with_q_year: 12932 files, 7.08% of total\n",
      "/Users/ui21149/PycharmProjects/rep_measureGPR/WRDS/Proofed Copy/transcripts_2012/headline_with_q_year: 12748 files, 6.98% of total\n",
      "/Users/ui21149/PycharmProjects/rep_measureGPR/WRDS/Proofed Copy/transcripts_2013/headline_with_q_year: 11882 files, 6.51% of total\n",
      "/Users/ui21149/PycharmProjects/rep_measureGPR/WRDS/Proofed Copy/transcripts_2014/headline_with_q_year: 14825 files, 8.12% of total\n",
      "/Users/ui21149/PycharmProjects/rep_measureGPR/WRDS/Proofed Copy/transcripts_2015/headline_with_q_year: 16104 files, 8.82% of total\n",
      "/Users/ui21149/PycharmProjects/rep_measureGPR/WRDS/Proofed Copy/transcripts_2016/headline_with_q_year: 15948 files, 8.73% of total\n",
      "/Users/ui21149/PycharmProjects/rep_measureGPR/WRDS/Proofed Copy/transcripts_2017/headline_with_q_year: 16415 files, 8.99% of total\n",
      "/Users/ui21149/PycharmProjects/rep_measureGPR/WRDS/Proofed Copy/transcripts_2018/headline_with_q_year: 18013 files, 9.86% of total\n",
      "/Users/ui21149/PycharmProjects/rep_measureGPR/WRDS/Proofed Copy/transcripts_2019/headline_with_q_year: 18771 files, 10.28% of total\n",
      "/Users/ui21149/PycharmProjects/rep_measureGPR/WRDS/Proofed Copy/transcripts_2020/headline_with_q_year: 17718 files, 9.70% of total\n",
      "/Users/ui21149/PycharmProjects/rep_measureGPR/WRDS/Proofed Copy/transcripts_2021/headline_with_q_year: 3835 files, 2.10% of total\n",
      "/Users/ui21149/PycharmProjects/rep_measureGPR/WRDS/Proofed Copy/transcripts_2022/headline_with_q_year: 2320 files, 1.27% of total\n",
      "/Users/ui21149/PycharmProjects/rep_measureGPR/WRDS/Proofed Copy/transcripts_2023/headline_with_q_year: 3726 files, 2.04% of total\n",
      "/Users/ui21149/PycharmProjects/rep_measureGPR/WRDS/Proofed Copy/transcripts_2024/headline_with_q_year: 4766 files, 2.61% of total\n",
      "/Users/ui21149/PycharmProjects/rep_measureGPR/WRDS/Proofed Copy/transcripts_2025/headline_with_q_year: 926 files, 0.51% of total\n",
      "\n",
      "Total .txt files: 182636\n"
     ]
    }
   ],
   "execution_count": 5
  },
  {
   "metadata": {
    "ExecuteTime": {
     "end_time": "2025-06-10T22:08:25.003889Z",
     "start_time": "2025-06-10T22:08:25.000500Z"
    }
   },
   "cell_type": "code",
   "source": [
    "# 将结果整理成一个字典：年份（字符串） -> 比例（float，单位为 0-1 之间的小数）\n",
    "year_to_ratio = {}\n",
    "\n",
    "for path, count in txt_counts.items():\n",
    "    # 假设路径中包含 transcripts_YYYY，例如 .../transcripts_2024/...\n",
    "    for segment in path.split(os.sep):\n",
    "        if segment.startswith(\"transcripts_\"):\n",
    "            year = segment.replace(\"transcripts_\", \"\")\n",
    "            proportion = count / total_txt if total_txt > 0 else 0\n",
    "            year_to_ratio[year] = proportion\n",
    "            break  # 找到后就跳出 segment 循环\n",
    "\n",
    "# 使用示例：输入年份获取对应比例\n",
    "query_year = \"2016\"\n",
    "print(f\"Year {query_year}: {year_to_ratio.get(query_year, 'Not found'):.2%} of total\")"
   ],
   "id": "9f80677f48071777",
   "outputs": [
    {
     "name": "stdout",
     "output_type": "stream",
     "text": [
      "Year 2016: 6.08% of total\n"
     ]
    }
   ],
   "execution_count": 38
  },
  {
   "metadata": {
    "ExecuteTime": {
     "end_time": "2025-06-10T22:08:29.161072Z",
     "start_time": "2025-06-10T22:08:29.158086Z"
    }
   },
   "cell_type": "code",
   "source": [
    "# 基于 year_to_ratio 字典，创建新的字典：每年应抽取的 paragraph 数量（四舍五入为整数）\n",
    "year_to_paragraphs = {\n",
    "    year: round(ratio * 100000)\n",
    "    for year, ratio in year_to_ratio.items()\n",
    "}\n",
    "# 输出所有年份对应的段落数量\n",
    "print(\"Year\\tParagraphs\")\n",
    "for year in sorted(year_to_paragraphs.keys()):\n",
    "    count = year_to_paragraphs[year]\n",
    "    print(f\"{year}\\t{count}\")"
   ],
   "id": "449a12077ff8048e",
   "outputs": [
    {
     "name": "stdout",
     "output_type": "stream",
     "text": [
      "Year\tParagraphs\n",
      "2004\t0\n",
      "2005\t1\n",
      "2006\t27\n",
      "2007\t53\n",
      "2008\t157\n",
      "2009\t141\n",
      "2010\t625\n",
      "2011\t4544\n",
      "2012\t4509\n",
      "2013\t4522\n",
      "2014\t5647\n",
      "2015\t6137\n",
      "2016\t6079\n",
      "2017\t6241\n",
      "2018\t6867\n",
      "2019\t7210\n",
      "2020\t8455\n",
      "2021\t8811\n",
      "2022\t9409\n",
      "2023\t9505\n",
      "2024\t9357\n",
      "2025\t1704\n"
     ]
    }
   ],
   "execution_count": 39
  },
  {
   "metadata": {
    "ExecuteTime": {
     "end_time": "2025-06-10T22:08:49.053933Z",
     "start_time": "2025-06-10T22:08:49.044192Z"
    }
   },
   "cell_type": "code",
   "source": [
    "#gpr match\n",
    "import re\n",
    "\n",
    "# 地缘政治词列表（支持 `*` 通配符）\n",
    "geo_political_terms_with_star = [\n",
    "    \"war\", \"military\", \"terror*\", \"geopolitical\", \"conflict\", \"Middle East\", \"Iraq\", \"Afghanistan\",\n",
    "    \"Iran\", \"Syria\", \"Libya\", \"Ukrain*\", \"Russia*\", \"North Korea\", \"Venezuela\", \"coup\",\n",
    "    \"expropriation\", \"confiscation\", \"nationalism\", \"security\", \"protest*\", \"country\", \"countries\",\n",
    "    \"political\", \"retaliation\", \"unrest\", \"geograph*\", \"troop*\", \"sanction\", \"sanctions\", \"embargo\",\n",
    "    \"wars\", \"warfare\", \"army\", \"navy\", \"weapon*\", \"combat\", \"missile*\", \"immigration\", \"diplomacy\"\n",
    "]\n",
    "\n",
    "# 风险/不利事件词列表（支持 `*` 通配符）\n",
    "risk_terms_with_star = [\n",
    "    \"risk*\", \"uncertain*\", \"variab*\", \"chance*\", \"possib*\", \"pending\", \"doubt*\", \"prospect*\",\n",
    "    \"bet\", \"bets\", \"betting\", \"exposed\", \"likel*\", \"threat*\", \"probab*\", \"unknown*\", \"potential\",\n",
    "    \"concern*\", \"tension*\", \"issue*\", \"instability\", \"cautio*\", \"fear*\", \"volatil*\", \"varying\",\n",
    "    \"unclear\", \"speculative\", \"hesitant\", \"headwind*\", \"backlog*\", \"dispute\", \"disrupt*\", \"worry*\",\n",
    "    \"worries\", \"hurdle*\", \"obstacle*\", \"disturbance*\", \"hostil*\", \"unrest\", \"conflict\", \"pressure*\",\n",
    "    \"crisis\", \"trigger*\", \"impact\", \"peril*\", \"effect*\", \"acts\", \"attack*\", \"incident*\"\n",
    "]\n",
    "\n",
    "# 将 `*` 号转换为正则表达式\n",
    "def compile_patterns(terms):\n",
    "    return [re.compile(rf\"^{re.escape(term).replace(r'\\*', '.*')}$\") for term in terms]\n",
    "\n",
    "geo_political_patterns = compile_patterns(geo_political_terms_with_star)\n",
    "risk_patterns = compile_patterns(risk_terms_with_star)\n",
    "\n",
    "# 文本预处理\n",
    "def clean_text(text):\n",
    "    # 去除 HTML 标签\n",
    "    text = re.sub(r'<.*?>', ' ', text)\n",
    "    # 去除标点符号和特殊字符（只保留字母、数字、空格）\n",
    "    text = re.sub(r'[^a-zA-Z0-9\\s]', ' ', text)\n",
    "    # 去除额外的空格\n",
    "    text = re.sub(r'\\s+', ' ', text).strip()\n",
    "    return text.lower()\n",
    "\n",
    "# 计算地缘政治风险指数\n",
    "def calculate_geopolitical_risk(text):\n",
    "    clean_words = clean_text(text).split()\n",
    "    total_words = len(clean_words)\n",
    "    \n",
    "    geo_mentions = 0  # 匹配次数\n",
    "    matched_words = []  # 存储匹配的地缘政治+风险词\n",
    "\n",
    "    for i, word in enumerate(clean_words):\n",
    "        # 检查当前单词是否是地缘政治相关词\n",
    "        if any(pattern.match(word) for pattern in geo_political_patterns):\n",
    "            # 在前后 10 个单词范围内检查风险词\n",
    "            for j in range(max(0, i-10), min(i+10, total_words)):\n",
    "                if j==i:\n",
    "                    continue\n",
    "                if any(pattern.match(clean_words[j]) for pattern in risk_patterns):  \n",
    "                    geo_mentions += 1\n",
    "                    matched_words.append(f\"{word}-{clean_words[j]}\")  # 记录匹配的具体词\n",
    "                    break  # 计数后跳出，避免重复\n",
    "\n",
    "    # 计算风险指数\n",
    "    risk_index = geo_mentions / total_words if total_words > 0 else 0\n",
    "    return risk_index, geo_mentions, total_words, \"; \".join(set(matched_words))\n"
   ],
   "id": "2fd626dc4efe8be4",
   "outputs": [],
   "execution_count": 40
  },
  {
   "metadata": {
    "ExecuteTime": {
     "end_time": "2025-06-10T22:09:05.973885Z",
     "start_time": "2025-06-10T22:09:05.967488Z"
    }
   },
   "cell_type": "code",
   "source": [
    "import os\n",
    "import pickle\n",
    "\n",
    "def collect_unlabeled_paragraphs(year, base_dir=\"/Users/ui21149/PycharmProjects/rep_measureGPR/WRDS/Spellchecked Copy\"):\n",
    "    \"\"\"\n",
    "    根据给定年份，从 headline_with_q_year 目录中抽取与地缘政治相关的段落，\n",
    "    满足目标数量后保存为 {year}_unlabeled_data.pkl 文件。\n",
    "\n",
    "    参数：\n",
    "        year (str or int): 年份（例如 \"2004\"）\n",
    "        base_dir (str): 主目录路径，默认为你的项目路径\n",
    "    \"\"\"\n",
    "    year = str(year)\n",
    "    goal = year_to_paragraphs.get(year)\n",
    "    if goal is None:\n",
    "        print(f\"Year {year} not found in year_to_paragraphs.\")\n",
    "        return\n",
    "\n",
    "    print(f\"⏳ Processing year {year}, target: {goal} paragraphs...\")\n",
    "\n",
    "    target_dir = os.path.join(base_dir, f\"transcripts_{year}\", \"headline_with_q_year\")\n",
    "    selected_paragraphs = []\n",
    "\n",
    "    if not os.path.exists(target_dir):\n",
    "        print(f\"❌ Directory not found: {target_dir}\")\n",
    "        return\n",
    "\n",
    "    txt_files = [\n",
    "        os.path.join(target_dir, f)\n",
    "        for f in os.listdir(target_dir)\n",
    "        if f.endswith(\".txt\") and os.path.isfile(os.path.join(target_dir, f))\n",
    "    ]\n",
    "\n",
    "    for file_path in txt_files:\n",
    "        with open(file_path, 'r', encoding='utf-8') as f:\n",
    "            content = f.read()\n",
    "            paragraphs = [p.strip() for p in content.split('\\n') if p.strip()]\n",
    "\n",
    "            for para in paragraphs:\n",
    "                match_count = calculate_geopolitical_risk(para)[1]\n",
    "                if match_count > 0:\n",
    "                    selected_paragraphs.append(para)\n",
    "\n",
    "                if len(selected_paragraphs) >= goal:\n",
    "                    break\n",
    "        if len(selected_paragraphs) >= goal:\n",
    "            break\n",
    "\n",
    "    print(f\"✅ Collected {len(selected_paragraphs)} paragraphs for year {year}\")\n",
    "    if len(selected_paragraphs) < goal:\n",
    "        print(f\"⚠️ Still missing {goal - len(selected_paragraphs)} paragraphs to reach goal of {goal}\")\n",
    "\n",
    "    output_path = f\"unlabeled_data/{year}_unlabeled_data.pkl\"\n",
    "    with open(output_path, 'wb') as f:\n",
    "        pickle.dump(selected_paragraphs, f)\n",
    "\n",
    "    print(f\"📦 Saved to {output_path}\")"
   ],
   "id": "5123753a9f39807b",
   "outputs": [],
   "execution_count": 41
  },
  {
   "metadata": {
    "ExecuteTime": {
     "end_time": "2025-06-11T00:28:58.972004Z",
     "start_time": "2025-06-10T22:21:49.497537Z"
    }
   },
   "cell_type": "code",
   "source": [
    "for year in range(2004, 2026): \n",
    "    collect_unlabeled_paragraphs(year)"
   ],
   "id": "22566639fa77f5fd",
   "outputs": [
    {
     "name": "stdout",
     "output_type": "stream",
     "text": [
      "⏳ Processing year 2004, target: 0 paragraphs...\n",
      "✅ Collected 0 paragraphs for year 2004\n",
      "📦 Saved to 2004_unlabeled_data.pkl\n",
      "⏳ Processing year 2005, target: 1 paragraphs...\n",
      "✅ Collected 0 paragraphs for year 2005\n",
      "⚠️ Still missing 1 paragraphs to reach goal of 1\n",
      "📦 Saved to 2005_unlabeled_data.pkl\n",
      "⏳ Processing year 2006, target: 27 paragraphs...\n",
      "✅ Collected 27 paragraphs for year 2006\n",
      "📦 Saved to 2006_unlabeled_data.pkl\n",
      "⏳ Processing year 2007, target: 53 paragraphs...\n",
      "✅ Collected 43 paragraphs for year 2007\n",
      "⚠️ Still missing 10 paragraphs to reach goal of 53\n",
      "📦 Saved to 2007_unlabeled_data.pkl\n",
      "⏳ Processing year 2008, target: 157 paragraphs...\n",
      "✅ Collected 140 paragraphs for year 2008\n",
      "⚠️ Still missing 17 paragraphs to reach goal of 157\n",
      "📦 Saved to 2008_unlabeled_data.pkl\n",
      "⏳ Processing year 2009, target: 141 paragraphs...\n",
      "✅ Collected 120 paragraphs for year 2009\n",
      "⚠️ Still missing 21 paragraphs to reach goal of 141\n",
      "📦 Saved to 2009_unlabeled_data.pkl\n",
      "⏳ Processing year 2010, target: 625 paragraphs...\n",
      "✅ Collected 474 paragraphs for year 2010\n",
      "⚠️ Still missing 151 paragraphs to reach goal of 625\n",
      "📦 Saved to 2010_unlabeled_data.pkl\n",
      "⏳ Processing year 2011, target: 4544 paragraphs...\n",
      "✅ Collected 4062 paragraphs for year 2011\n",
      "⚠️ Still missing 482 paragraphs to reach goal of 4544\n",
      "📦 Saved to 2011_unlabeled_data.pkl\n",
      "⏳ Processing year 2012, target: 4509 paragraphs...\n",
      "✅ Collected 4055 paragraphs for year 2012\n",
      "⚠️ Still missing 454 paragraphs to reach goal of 4509\n",
      "📦 Saved to 2012_unlabeled_data.pkl\n",
      "⏳ Processing year 2013, target: 4522 paragraphs...\n",
      "✅ Collected 3789 paragraphs for year 2013\n",
      "⚠️ Still missing 733 paragraphs to reach goal of 4522\n",
      "📦 Saved to 2013_unlabeled_data.pkl\n",
      "⏳ Processing year 2014, target: 5647 paragraphs...\n",
      "✅ Collected 5140 paragraphs for year 2014\n",
      "⚠️ Still missing 507 paragraphs to reach goal of 5647\n",
      "📦 Saved to 2014_unlabeled_data.pkl\n",
      "⏳ Processing year 2015, target: 6137 paragraphs...\n",
      "✅ Collected 4969 paragraphs for year 2015\n",
      "⚠️ Still missing 1168 paragraphs to reach goal of 6137\n",
      "📦 Saved to 2015_unlabeled_data.pkl\n",
      "⏳ Processing year 2016, target: 6079 paragraphs...\n",
      "✅ Collected 5244 paragraphs for year 2016\n",
      "⚠️ Still missing 835 paragraphs to reach goal of 6079\n",
      "📦 Saved to 2016_unlabeled_data.pkl\n",
      "⏳ Processing year 2017, target: 6241 paragraphs...\n",
      "✅ Collected 4886 paragraphs for year 2017\n",
      "⚠️ Still missing 1355 paragraphs to reach goal of 6241\n",
      "📦 Saved to 2017_unlabeled_data.pkl\n",
      "⏳ Processing year 2018, target: 6867 paragraphs...\n",
      "✅ Collected 5563 paragraphs for year 2018\n",
      "⚠️ Still missing 1304 paragraphs to reach goal of 6867\n",
      "📦 Saved to 2018_unlabeled_data.pkl\n",
      "⏳ Processing year 2019, target: 7210 paragraphs...\n",
      "✅ Collected 6533 paragraphs for year 2019\n",
      "⚠️ Still missing 677 paragraphs to reach goal of 7210\n",
      "📦 Saved to 2019_unlabeled_data.pkl\n",
      "⏳ Processing year 2020, target: 8455 paragraphs...\n",
      "✅ Collected 8455 paragraphs for year 2020\n",
      "📦 Saved to 2020_unlabeled_data.pkl\n",
      "⏳ Processing year 2021, target: 8811 paragraphs...\n",
      "✅ Collected 7103 paragraphs for year 2021\n",
      "⚠️ Still missing 1708 paragraphs to reach goal of 8811\n",
      "📦 Saved to 2021_unlabeled_data.pkl\n",
      "⏳ Processing year 2022, target: 9409 paragraphs...\n",
      "✅ Collected 9409 paragraphs for year 2022\n",
      "📦 Saved to 2022_unlabeled_data.pkl\n",
      "⏳ Processing year 2023, target: 9505 paragraphs...\n",
      "✅ Collected 9435 paragraphs for year 2023\n",
      "⚠️ Still missing 70 paragraphs to reach goal of 9505\n",
      "📦 Saved to 2023_unlabeled_data.pkl\n",
      "⏳ Processing year 2024, target: 9357 paragraphs...\n",
      "✅ Collected 9212 paragraphs for year 2024\n",
      "⚠️ Still missing 145 paragraphs to reach goal of 9357\n",
      "📦 Saved to 2024_unlabeled_data.pkl\n",
      "⏳ Processing year 2025, target: 1704 paragraphs...\n",
      "✅ Collected 1704 paragraphs for year 2025\n",
      "📦 Saved to 2025_unlabeled_data.pkl\n"
     ]
    }
   ],
   "execution_count": 43
  },
  {
   "metadata": {
    "ExecuteTime": {
     "end_time": "2025-06-11T09:12:16.751023Z",
     "start_time": "2025-06-11T09:12:16.554104Z"
    }
   },
   "cell_type": "code",
   "source": [
    "count = 0\n",
    "for year in range(2004, 2026):\n",
    "    with open(f\"unlabeled_data/{year}_unlabeled_data.pkl\", \"rb\") as f:\n",
    "        data = pickle.load(f)\n",
    "    count = count + len(data)\n",
    "print(count)"
   ],
   "id": "7ce37a8b2cf351b",
   "outputs": [
    {
     "name": "stdout",
     "output_type": "stream",
     "text": [
      "90363\n"
     ]
    }
   ],
   "execution_count": 50
  },
  {
   "metadata": {
    "ExecuteTime": {
     "end_time": "2025-06-11T09:24:31.008342Z",
     "start_time": "2025-06-11T09:24:30.397154Z"
    }
   },
   "cell_type": "code",
   "source": [
    "import os\n",
    "import pickle\n",
    "import json\n",
    "\n",
    "# 存放所有段落的列表\n",
    "all_paragraphs = []\n",
    "\n",
    "# 段落唯一编号\n",
    "current_id = 1\n",
    "\n",
    "# 循环加载所有年份的 .pkl 文件\n",
    "for year in range(2004, 2026):\n",
    "    file_name = f\"unlabeled_data/{year}_unlabeled_data.pkl\"\n",
    "    if os.path.exists(file_name):\n",
    "        with open(file_name, \"rb\") as f:\n",
    "            paragraphs = pickle.load(f)\n",
    "            for para in paragraphs:\n",
    "                all_paragraphs.append({\n",
    "                    \"id\": current_id,\n",
    "                    \"text\": para\n",
    "                })\n",
    "                current_id += 1\n",
    "    else:\n",
    "        print(f\"⚠️ File not found: {file_name}\")\n",
    "\n",
    "# 保存为 JSON 文件\n",
    "output_file = \"../data/all_unlabeled_paragraphs.json\"\n",
    "with open(output_file, \"w\", encoding=\"utf-8\") as f:\n",
    "    json.dump(all_paragraphs, f, ensure_ascii=False, indent=2)\n",
    "\n",
    "print(f\"✅ Saved {len(all_paragraphs)} paragraphs to {output_file}\")"
   ],
   "id": "e55e8cb777178441",
   "outputs": [
    {
     "name": "stdout",
     "output_type": "stream",
     "text": [
      "✅ Saved 90363 paragraphs to ../data/all_unlabeled_paragraphs.json\n"
     ]
    }
   ],
   "execution_count": 51
  },
  {
   "metadata": {
    "ExecuteTime": {
     "end_time": "2025-06-11T21:21:37.745961Z",
     "start_time": "2025-06-11T21:21:37.032985Z"
    }
   },
   "cell_type": "code",
   "source": [
    "import json\n",
    "import matplotlib.pyplot as plt\n",
    "import numpy as np\n",
    "\n",
    "# 读取 JSON 文件\n",
    "with open(\"../data/all_unlabeled_paragraphs.json\", \"r\", encoding=\"utf-8\") as f:\n",
    "    data = json.load(f)\n",
    "\n",
    "# 统计每个段落的单词数\n",
    "lengths = [len(entry[\"text\"].split()) for entry in data]\n",
    "\n",
    "# 计算分位数\n",
    "lower_bound = np.percentile(lengths, 1)\n",
    "upper_bound = np.percentile(lengths, 90)\n",
    "\n",
    "# 过滤掉最短 5% 和最长 5%\n",
    "filtered_lengths = [l for l in lengths if lower_bound <= l <= upper_bound]\n",
    "\n",
    "# 输出统计信息\n",
    "print(f\"原始段落总数: {len(lengths)}\")\n",
    "print(f\"保留段落数（中间90%）: {len(filtered_lengths)}\")\n",
    "print(f\"截断范围: {lower_bound:.0f} ~ {upper_bound:.0f} words\")\n",
    "\n",
    "# 绘制图像（中间90%）\n",
    "plt.figure(figsize=(10, 6))\n",
    "plt.hist(filtered_lengths, bins=50, color='lightgreen', edgecolor='black')\n",
    "plt.title(\"Paragraph Length Distribution (middle 90%, by word count)\")\n",
    "plt.xlabel(\"Number of words per paragraph\")\n",
    "plt.ylabel(\"Number of paragraphs\")\n",
    "plt.grid(True)\n",
    "plt.tight_layout()\n",
    "plt.show()"
   ],
   "id": "ffe18bfa51e2b53f",
   "outputs": [
    {
     "name": "stdout",
     "output_type": "stream",
     "text": [
      "原始段落总数: 90363\n",
      "保留段落数（中间90%）: 80472\n",
      "截断范围: 24 ~ 267 words\n"
     ]
    },
    {
     "data": {
      "text/plain": [
       "<Figure size 1000x600 with 1 Axes>"
      ],
      "image/png": "[encoded data removed]"
     },
     "metadata": {},
     "output_type": "display_data"
    }
   ],
   "execution_count": 63
  },
  {
   "metadata": {
    "ExecuteTime": {
     "end_time": "2025-06-11T21:30:52.185368Z",
     "start_time": "2025-06-11T21:30:50.682003Z"
    }
   },
   "cell_type": "code",
   "source": [
    "import json\n",
    "import numpy as np\n",
    "\n",
    "# 读取原始 JSON 文件\n",
    "with open(\"../data/all_unlabeled_paragraphs.json\", \"r\", encoding=\"utf-8\") as f:\n",
    "    data = json.load(f)\n",
    "\n",
    "# 计算每个段落的单词数\n",
    "lengths = [len(entry[\"text\"].split()) for entry in data]\n",
    "\n",
    "# 计算截断阈值：去掉最短 1% 和最长 10%\n",
    "lower_threshold = np.percentile(lengths, 1)\n",
    "upper_threshold = np.percentile(lengths, 90)\n",
    "\n",
    "# 过滤数据：只保留中间 89%\n",
    "filtered_data = [\n",
    "    entry for entry in data\n",
    "    if lower_threshold <= len(entry[\"text\"].split()) <= upper_threshold\n",
    "]\n",
    "\n",
    "# 重新编号\n",
    "cleaned_data = [\n",
    "    {\"id\": i + 1, \"text\": entry[\"text\"]}\n",
    "    for i, entry in enumerate(filtered_data)\n",
    "]\n",
    "\n",
    "# 输出统计信息\n",
    "original_count = len(data)\n",
    "filtered_count = len(cleaned_data)\n",
    "removed_count = original_count - filtered_count\n",
    "\n",
    "print(f\"✅ 原始段落总数: {original_count}\")\n",
    "print(f\"✅ 删除段落数: {removed_count}\")\n",
    "print(f\"✅ 保留段落数: {filtered_count}\")\n",
    "\n",
    "# 保存为新 JSON 文件\n",
    "output_path = \"../data/cleaned_paragraphs.json\"\n",
    "with open(output_path, \"w\", encoding=\"utf-8\") as f:\n",
    "    json.dump(cleaned_data, f, ensure_ascii=False, indent=2)\n",
    "\n",
    "print(f\"📁 新文件已保存: {output_path}\")"
   ],
   "id": "efe1efa6c0e17d23",
   "outputs": [
    {
     "name": "stdout",
     "output_type": "stream",
     "text": [
      "✅ 原始段落总数: 90363\n",
      "✅ 删除段落数: 9891\n",
      "✅ 保留段落数: 80472\n",
      "📁 新文件已保存: ../data/cleaned_paragraphs.json\n"
     ]
    }
   ],
   "execution_count": 64
  },
  {
   "metadata": {
    "ExecuteTime": {
     "end_time": "2025-06-13T12:56:47.026796Z",
     "start_time": "2025-06-13T12:56:46.684108Z"
    }
   },
   "cell_type": "code",
   "source": [
    "import json\n",
    "import random\n",
    "\n",
    "# 读取清洗后的 JSON 文件\n",
    "with open(\"../data/cleaned_paragraphs.json\", \"r\", encoding=\"utf-8\") as f:\n",
    "    data = json.load(f)\n",
    "\n",
    "# 设置抽样总数和每组数量\n",
    "total_sample = 30000\n",
    "half_sample = total_sample // 2\n",
    "\n",
    "# 检查是否足够抽样\n",
    "if len(data) < total_sample:\n",
    "    raise ValueError(f\"❌ 数据不足，只有 {len(data)} 条，无法抽取 {total_sample} 条。\")\n",
    "\n",
    "# 随机抽样\n",
    "sampled_data = random.sample(data, total_sample)\n",
    "\n",
    "# 分成两组\n",
    "team_1_data = sampled_data[:half_sample]\n",
    "team_2_data = sampled_data[half_sample:]\n",
    "\n",
    "# 重新编号\n",
    "team_1_data = [{\"id\": i + 1, \"text\": entry[\"text\"]} for i, entry in enumerate(team_1_data)]\n",
    "team_2_data = [{\"id\": i + 1, \"text\": entry[\"text\"]} for i, entry in enumerate(team_2_data)]\n",
    "\n",
    "# 保存两个文件\n",
    "with open(\"../data/team_1.json\", \"w\", encoding=\"utf-8\") as f1:\n",
    "    json.dump(team_1_data, f1, ensure_ascii=False, indent=2)\n",
    "\n",
    "with open(\"../data/team_2.json\", \"w\", encoding=\"utf-8\") as f2:\n",
    "    json.dump(team_2_data, f2, ensure_ascii=False, indent=2)\n",
    "\n",
    "print(f\"✅ 已将 30000 条段落均分并保存为 team_1.json 与 team_2.json\")"
   ],
   "id": "73fbfbe791e10329",
   "outputs": [
    {
     "name": "stdout",
     "output_type": "stream",
     "text": [
      "✅ 已将 30000 条段落均分并保存为 team_1.json 与 team_2.json\n"
     ]
    }
   ],
   "execution_count": 1
  },
  {
   "metadata": {
    "ExecuteTime": {
     "end_time": "2025-06-13T13:12:47.769984Z",
     "start_time": "2025-06-13T13:12:44.584719Z"
    }
   },
   "cell_type": "code",
   "source": [
    "import json\n",
    "import matplotlib.pyplot as plt\n",
    "\n",
    "def load_lengths(file_path):\n",
    "    with open(file_path, \"r\", encoding=\"utf-8\") as f:\n",
    "        data = json.load(f)\n",
    "    lengths = [len(entry[\"text\"].split()) for entry in data]\n",
    "    return lengths\n",
    "\n",
    "# 加载两个团队的段落长度\n",
    "team_1_lengths = load_lengths(\"../data/team_1.json\")\n",
    "team_2_lengths = load_lengths(\"../data/team_2.json\")\n",
    "\n",
    "# 计算并输出平均单词数\n",
    "print(f\"Team 1 平均单词数: {sum(team_1_lengths) / len(team_1_lengths):.2f}\")\n",
    "print(f\"Team 2 平均单词数: {sum(team_2_lengths) / len(team_2_lengths):.2f}\")\n",
    "\n",
    "# 绘图\n",
    "plt.figure(figsize=(10, 6))\n",
    "plt.hist(team_1_lengths, bins=50, alpha=0.6, label=\"Team 1\", color='skyblue', edgecolor='black')\n",
    "plt.hist(team_2_lengths, bins=50, alpha=0.6, label=\"Team 2\", color='salmon', edgecolor='black')\n",
    "\n",
    "plt.title(\"Paragraph Length Distribution by Word Count (Team 1 vs Team 2)\")\n",
    "plt.xlabel(\"Number of words per paragraph\")\n",
    "plt.ylabel(\"Number of paragraphs\")\n",
    "plt.legend()\n",
    "plt.grid(True)\n",
    "plt.tight_layout()\n",
    "plt.show()"
   ],
   "id": "1603a6b56349c6af",
   "outputs": [
    {
     "name": "stdout",
     "output_type": "stream",
     "text": [
      "Team 1 平均单词数: 107.60\n",
      "Team 2 平均单词数: 107.74\n"
     ]
    },
    {
     "data": {
      "text/plain": [
       "<Figure size 1000x600 with 1 Axes>"
      ],
      "image/png": "[encoded data removed]"
     },
     "metadata": {},
     "output_type": "display_data"
    }
   ],
   "execution_count": 2
  },
  {
   "metadata": {},
   "cell_type": "code",
   "outputs": [],
   "execution_count": null,
   "source": "",
   "id": "ff41ef7e6669b95b"
  }
 ],
 "metadata": {
  "kernelspec": {
   "display_name": "Python (dl_nlp_book)",
   "language": "python",
   "name": "dl_nlp_book"
  },
  "language_info": {
   "codemirror_mode": {
    "name": "ipython",
    "version": 2
   },
   "file_extension": ".py",
   "mimetype": "text/x-python",
   "name": "python",
   "nbconvert_exporter": "python",
   "pygments_lexer": "ipython2",
   "version": "2.7.6"
  }
 },
 "nbformat": 4,
 "nbformat_minor": 5
}
