{
 "cells": [
  {
   "cell_type": "code",
   "id": "initial_id",
   "metadata": {
    "collapsed": true,
    "ExecuteTime": {
     "end_time": "2025-06-12T16:35:18.969211Z",
     "start_time": "2025-06-12T16:35:18.961789Z"
    }
   },
   "source": [
    "import sqlite3\n",
    "import pandas as pd\n",
    "import os\n",
    "\n",
    "# ==== 修改这里，选择你要查看哪个用户的数据库 ====\n",
    "username = \"user1\"  # 改成 user2 / user3 / user4 也行\n",
    "db_path = f\"../db/{username}.db\"\n",
    "\n",
    "# ==== 检查数据库是否存在 ====\n",
    "if not os.path.exists(db_path):\n",
    "    print(f\"❌ Database not found at: {db_path}\")\n",
    "    exit()\n",
    "\n",
    "# ==== 连接并读取 ====\n",
    "conn = sqlite3.connect(db_path)\n",
    "query = \"SELECT * FROM labels ORDER BY paragraph_id, sentence_index\"\n",
    "\n",
    "df = pd.read_sql_query(query, conn)\n",
    "conn.close()\n",
    "\n",
    "# ==== 展示前几行 ====\n",
    "print(\"✅ Loaded data:\")\n",
    "print(df.head(20))\n",
    "\n",
    "# ==== 可选：输出字段分布 ====\n",
    "print(\"\\n📊 Label counts:\")\n",
    "print(df[\"label\"].value_counts())\n",
    "\n",
    "print(\"\\n📌 Columns:\")\n",
    "print(df.columns.tolist())"
   ],
   "outputs": [
    {
     "name": "stdout",
     "output_type": "stream",
     "text": [
      "✅ Loaded data:\n",
      "                                     id  paragraph_id  sentence_index  \\\n",
      "0  5dbca9bc-deb3-46ae-af13-f4f158c7302a             1               0   \n",
      "1  8bc0ca7e-e7a5-4f88-bdd3-1c1299c396df             1               1   \n",
      "2  860170d4-e630-4d2e-bb2c-2871ab1c8471             1               2   \n",
      "3  9195b3e1-514f-47af-9b39-0e3a831d6a12             1               3   \n",
      "4  81df79ca-aa92-4ea0-8923-81f002869d4c             2               0   \n",
      "5  06f98239-3a9c-4ab3-be36-2fce6e4e0cdd             2               1   \n",
      "6  2bd730bb-8f8a-40a1-a8e3-adf52b4facb0             2               2   \n",
      "7  82e122fc-42b6-4aa0-9c44-beca88cbc95b             2               3   \n",
      "8  b6dcbe87-bfc9-44e3-9cfa-c6548faee578             3               0   \n",
      "9  a34941bf-2fc7-46e6-b5d7-2f5f0128bd5e             3               1   \n",
      "\n",
      "                                            sentence  label  \\\n",
      "0  Yesterday, we received notification from the D...      0   \n",
      "1  EAGLE II is a $22 billion, 7-year procurement ...      0   \n",
      "2  We were also selected during the quarter as an...      0   \n",
      "3  We continue to track over 30 major capture opp...      0   \n",
      "4  Well, since this administration began, the ope...      0   \n",
      "5  Due to its high relevance in the development o...      0   \n",
      "6  And for this reason, as we have been commentin...      0   \n",
      "7  The support mechanisms have been diverged from...      0   \n",
      "8  And I guess, the other comment, with the FX im...      0   \n",
      "9  And is there one particular currency or more s...      0   \n",
      "\n",
      "                    timestamp  \n",
      "0  2025-06-12T17:34:17.799469  \n",
      "1  2025-06-12T17:34:17.799469  \n",
      "2  2025-06-12T17:34:17.799469  \n",
      "3  2025-06-12T17:34:17.799469  \n",
      "4  2025-06-12T17:34:32.795279  \n",
      "5  2025-06-12T17:34:32.795279  \n",
      "6  2025-06-12T17:34:32.795279  \n",
      "7  2025-06-12T17:34:32.795279  \n",
      "8  2025-06-12T17:35:12.641350  \n",
      "9  2025-06-12T17:35:12.641350  \n",
      "\n",
      "📊 Label counts:\n",
      "label\n",
      "0    10\n",
      "Name: count, dtype: int64\n",
      "\n",
      "📌 Columns:\n",
      "['id', 'paragraph_id', 'sentence_index', 'sentence', 'label', 'timestamp']\n"
     ]
    }
   ],
   "execution_count": 8
  },
  {
   "metadata": {},
   "cell_type": "code",
   "outputs": [],
   "execution_count": null,
   "source": "",
   "id": "cf9a2ec6eb4f540d"
  }
 ],
 "metadata": {
  "kernelspec": {
   "display_name": "Python 3",
   "language": "python",
   "name": "python3"
  },
  "language_info": {
   "codemirror_mode": {
    "name": "ipython",
    "version": 2
   },
   "file_extension": ".py",
   "mimetype": "text/x-python",
   "name": "python",
   "nbconvert_exporter": "python",
   "pygments_lexer": "ipython2",
   "version": "2.7.6"
  }
 },
 "nbformat": 4,
 "nbformat_minor": 5
}
